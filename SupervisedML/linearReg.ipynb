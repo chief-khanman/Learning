{
 "cells": [
  {
   "attachments": {},
   "cell_type": "markdown",
   "metadata": {},
   "source": [
    "# Fundamental Questions of Supervised ML \n",
    "\n",
    "## Model and its features \n",
    "\n",
    "#### What is a model? \n",
    "#### What is a cost function? \n",
    "#### What does it mean to optimize a cost function?\n",
    "#### What are features? \n",
    "#### How do we select features?\n",
    "#### What does it mean to select features?\n",
    "#### What does it mean to engineer features? \n",
    "#### What are hyperparameters?\n",
    "#### What are the difference between parameters and hyperparameters?\n",
    "#### How to select a model?\n",
    "#### How to tune hyperparameters?"
   ]
  },
  {
   "cell_type": "code",
   "execution_count": null,
   "metadata": {},
   "outputs": [],
   "source": []
  }
 ],
 "metadata": {
  "language_info": {
   "name": "python"
  },
  "orig_nbformat": 4
 },
 "nbformat": 4,
 "nbformat_minor": 2
}
